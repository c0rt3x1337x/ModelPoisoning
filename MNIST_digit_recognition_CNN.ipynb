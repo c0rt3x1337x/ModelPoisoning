{
  "cells": [
    {
      "cell_type": "markdown",
      "metadata": {
        "id": "Gv0bm3Mu07wT"
      },
      "source": [
        "Mount Google Drive to access and save files to your cloud drive"
      ]
    },
    {
      "cell_type": "code",
      "execution_count": null,
      "metadata": {
        "colab": {
          "base_uri": "https://localhost:8080/"
        },
        "id": "puFdkDkJag22",
        "outputId": "a90d548c-0b99-4e72-8ea6-ab084f21649d"
      },
      "outputs": [
        {
          "name": "stdout",
          "output_type": "stream",
          "text": [
            "Mounted at /content/drive\n"
          ]
        }
      ],
      "source": [
        "from google.colab import drive\n",
        "import os\n",
        "\n",
        "drive.mount('/content/drive')\n"
      ]
    },
    {
      "cell_type": "code",
      "execution_count": null,
      "metadata": {
        "id": "r7zyEasPw9ku"
      },
      "outputs": [],
      "source": [
        "project_dir = \"/content/drive/MyDrive/MNIST_CNN_Project\"\n",
        "os.makedirs(project_dir, exist_ok=True)"
      ]
    },
    {
      "cell_type": "markdown",
      "metadata": {
        "id": "lTBMMfIc0_GI"
      },
      "source": [
        "Import all necessary libraries"
      ]
    },
    {
      "cell_type": "code",
      "execution_count": null,
      "metadata": {
        "id": "C8ca8WBEx4QL"
      },
      "outputs": [],
      "source": [
        "import torch\n",
        "import torch.nn as nn\n",
        "import torch.nn.functional as F\n",
        "import torch.optim as optim\n",
        "from torchvision import datasets, transforms\n",
        "from torch.utils.data import DataLoader\n",
        "import pandas as pd\n",
        "import matplotlib.pyplot as plt"
      ]
    },
    {
      "cell_type": "markdown",
      "metadata": {
        "id": "jTb1VrTh1Hab"
      },
      "source": [
        " Load MNIST dataset and apply tensor transform"
      ]
    },
    {
      "cell_type": "code",
      "execution_count": null,
      "metadata": {
        "colab": {
          "base_uri": "https://localhost:8080/"
        },
        "id": "lcMt3KjdWCSD",
        "outputId": "1c505199-93aa-4f06-bb6f-6444f0c5216c"
      },
      "outputs": [
        {
          "name": "stderr",
          "output_type": "stream",
          "text": [
            "100%|██████████| 9.91M/9.91M [00:00<00:00, 37.9MB/s]\n",
            "100%|██████████| 28.9k/28.9k [00:00<00:00, 1.21MB/s]\n",
            "100%|██████████| 1.65M/1.65M [00:00<00:00, 8.98MB/s]\n",
            "100%|██████████| 4.54k/4.54k [00:00<00:00, 5.65MB/s]\n"
          ]
        }
      ],
      "source": [
        "transform = transforms.ToTensor()\n",
        "clean_dataset = datasets.MNIST(root='./data', train=True, transform=transform, download=True)\n",
        "test_dataset = datasets.MNIST(root='./data', train=False, transform=transform, download=True)\n",
        "\n",
        "clean_train_loader = DataLoader(clean_dataset, batch_size=64, shuffle=True)\n",
        "test_loader = DataLoader(test_dataset, batch_size=1000, shuffle=False)\n",
        "\n",
        "\n"
      ]
    },
    {
      "cell_type": "markdown",
      "metadata": {
        "id": "ywEnAdre1Kan"
      },
      "source": [
        "Define a simple CNN architecture for image classification"
      ]
    },
    {
      "cell_type": "code",
      "execution_count": null,
      "metadata": {
        "id": "t3ayJhOAs9o0"
      },
      "outputs": [],
      "source": [
        "class SimpleCNN(nn.Module):\n",
        "    def __init__(self):\n",
        "        super(SimpleCNN, self).__init__()\n",
        "        self.conv1 = nn.Conv2d(1, 32, kernel_size=3, padding=1)\n",
        "        self.conv2 = nn.Conv2d(32, 64, kernel_size=3, padding=1)\n",
        "        self.pool = nn.MaxPool2d(2, 2)\n",
        "        self.fc1 = nn.Linear(64 * 7 * 7, 128)\n",
        "        self.fc2 = nn.Linear(128, 10)\n",
        "\n",
        "    def forward(self, x):\n",
        "        x = self.pool(F.relu(self.conv1(x)))\n",
        "        x = self.pool(F.relu(self.conv2(x)))\n",
        "        x = x.view(-1, 64 * 7 * 7)\n",
        "        x = F.relu(self.fc1(x))\n",
        "        x = self.fc2(x)\n",
        "        return x"
      ]
    },
    {
      "cell_type": "markdown",
      "metadata": {
        "id": "dFe4Yf_21O89"
      },
      "source": [
        "\n",
        "\n",
        "```\n",
        "# This is formatted as code\n",
        "```\n",
        "\n",
        "Train the CNN model"
      ]
    },
    {
      "cell_type": "code",
      "execution_count": null,
      "metadata": {
        "colab": {
          "base_uri": "https://localhost:8080/"
        },
        "id": "ab-S2xbPt06d",
        "outputId": "a6a9c62c-102b-4aee-b598-565599c6d804"
      },
      "outputs": [
        {
          "name": "stdout",
          "output_type": "stream",
          "text": [
            "Epoch [1/5], Loss: 0.1695, Accuracy: 0.9494\n",
            "Epoch [2/5], Loss: 0.0496, Accuracy: 0.9849\n",
            "Epoch [3/5], Loss: 0.0342, Accuracy: 0.9895\n",
            "Epoch [4/5], Loss: 0.0248, Accuracy: 0.9921\n",
            "Epoch [5/5], Loss: 0.0194, Accuracy: 0.9937\n"
          ]
        }
      ],
      "source": [
        "clean_model= SimpleCNN()\n",
        "device = torch.device(\"cuda\" if torch.cuda.is_available() else \"cpu\")\n",
        "clean_model.to(device)\n",
        "\n",
        "criterion = nn.CrossEntropyLoss()\n",
        "optimizer = optim.Adam(clean_model.parameters(), lr=0.001)\n",
        "\n",
        "num_epochs = 5\n",
        "for epoch in range(num_epochs):\n",
        "    clean_model.train()\n",
        "    total_loss = 0\n",
        "    correct = 0\n",
        "    total = 0\n",
        "\n",
        "    for images, labels in clean_train_loader:\n",
        "        images, labels = images.to(device), labels.to(device)\n",
        "        outputs = clean_model(images)\n",
        "        loss = criterion(outputs, labels)\n",
        "\n",
        "        optimizer.zero_grad()\n",
        "        loss.backward()\n",
        "        optimizer.step()\n",
        "\n",
        "        total_loss += loss.item() * labels.size(0)\n",
        "        _, predicted = torch.max(outputs.data, 1)\n",
        "        correct += (predicted == labels).sum().item()\n",
        "        total += labels.size(0)\n",
        "\n",
        "    print(f\"Epoch [{epoch+1}/{num_epochs}], Loss: {total_loss/total:.4f}, Accuracy: {correct/total:.4f}\")\n"
      ]
    },
    {
      "cell_type": "markdown",
      "metadata": {
        "id": "6niCofcM1S2f"
      },
      "source": [
        "Evaluate the model on test set to get baseline performance"
      ]
    },
    {
      "cell_type": "code",
      "execution_count": null,
      "metadata": {
        "colab": {
          "base_uri": "https://localhost:8080/"
        },
        "id": "fZ4CQqheuE6w",
        "outputId": "24a0edd3-1779-4bd4-c898-ca573ac65115"
      },
      "outputs": [
        {
          "name": "stdout",
          "output_type": "stream",
          "text": [
            "\n",
            "✅ Initial Baseline Assessment Completed: \n",
            "Test Accuracy: 0.9903\n",
            "Test Loss: 0.0301\n"
          ]
        }
      ],
      "source": [
        "clean_model.eval()\n",
        "test_loss = 0\n",
        "correct = 0\n",
        "total = 0\n",
        "\n",
        "with torch.no_grad():\n",
        "    for images, labels in test_loader:\n",
        "        images, labels = images.to(device), labels.to(device)\n",
        "        outputs = clean_model(images)\n",
        "        loss = criterion(outputs, labels)\n",
        "        test_loss += loss.item() * labels.size(0)\n",
        "        _, predicted = torch.max(outputs.data, 1)\n",
        "        correct += (predicted == labels).sum().item()\n",
        "        total += labels.size(0)\n",
        "\n",
        "test_loss = test_loss / total\n",
        "test_accuracy = correct / total\n",
        "\n",
        "print(\"\\n✅ Initial Baseline Assessment Completed: \")\n",
        "print(f\"Test Accuracy: {test_accuracy:.4f}\")\n",
        "print(f\"Test Loss: {test_loss:.4f}\")\n"
      ]
    },
    {
      "cell_type": "markdown",
      "metadata": {
        "id": "kBGlEbZl1ZZI"
      },
      "source": [
        "Save model weights and baseline metrics to Google Drive"
      ]
    },
    {
      "cell_type": "code",
      "execution_count": null,
      "metadata": {
        "colab": {
          "base_uri": "https://localhost:8080/"
        },
        "id": "r06yYjqgynU3",
        "outputId": "ea448a4e-c58c-496d-9a6b-ad2469560448"
      },
      "outputs": [
        {
          "name": "stdout",
          "output_type": "stream",
          "text": [
            "\n",
            "✅ File saved:\n",
            "- Weights file: /content/drive/MyDrive/MNIST_CNN_Project/mnist_cnn_clean.pth\n",
            "- Baseline file: /content/drive/MyDrive/MNIST_CNN_Project/mnist_cnn_baseline.csv\n"
          ]
        }
      ],
      "source": [
        "weights_path = os.path.join(project_dir, 'mnist_cnn_clean.pth')\n",
        "torch.save(clean_model.state_dict(), weights_path)\n",
        "\n",
        "baseline_csv_path = os.path.join(project_dir, 'mnist_cnn_baseline.csv')\n",
        "baseline_df = pd.DataFrame({\n",
        "    'model': ['SimpleCNN'],\n",
        "    'dataset': ['MNIST'],\n",
        "    'test_accuracy': [test_accuracy],\n",
        "    'test_loss': [test_loss]\n",
        "})\n",
        "baseline_df.to_csv(baseline_csv_path, index=False)\n",
        "\n",
        "print(\"\\n✅ File saved:\")\n",
        "print(f\"- Weights file: {weights_path}\")\n",
        "print(f\"- Baseline file: {baseline_csv_path}\")\n"
      ]
    },
    {
      "cell_type": "markdown",
      "metadata": {
        "id": "hoZ6sGkvNTOk"
      },
      "source": [
        "Poisoning model"
      ]
    },
    {
      "cell_type": "code",
      "execution_count": null,
      "metadata": {
        "colab": {
          "base_uri": "https://localhost:8080/"
        },
        "id": "yo73z9msvCiY",
        "outputId": "ccc39088-8c17-41ce-b87c-2b87d8c1c59a"
      },
      "outputs": [
        {
          "name": "stdout",
          "output_type": "stream",
          "text": [
            "Epoch [1/5], Loss: 0.7541, Accuracy: 0.8494\n",
            "Epoch [2/5], Loss: 0.6290, Accuracy: 0.8843\n",
            "Epoch [3/5], Loss: 0.6037, Accuracy: 0.8888\n",
            "Epoch [4/5], Loss: 0.5853, Accuracy: 0.8915\n",
            "Epoch [5/5], Loss: 0.5681, Accuracy: 0.8928\n"
          ]
        }
      ],
      "source": [
        "import torch\n",
        "import torch.nn as nn\n",
        "import torch.nn.functional as F\n",
        "import torch.optim as optim\n",
        "from torchvision import datasets, transforms\n",
        "from torch.utils.data import DataLoader, Subset\n",
        "import numpy as np\n",
        "\n",
        "# Dataset and loaders\n",
        "transform = transforms.ToTensor()\n",
        "train_dataset = datasets.MNIST(root='./data', train=True, transform=transform, download=True)\n",
        "test_dataset = datasets.MNIST(root='./data', train=False, transform=transform, download=True)\n",
        "\n",
        "# === Label Flipping Attack ===\n",
        "flip_fraction = 0.1  # Flip 10% of the labels\n",
        "num_to_flip = int(flip_fraction * len(train_dataset))\n",
        "np.random.seed(42)  # For reproducibility\n",
        "flip_indices = np.random.choice(len(train_dataset), size=num_to_flip, replace=False)\n",
        "\n",
        "for idx in flip_indices:\n",
        "    true_label = train_dataset.targets[idx].item()\n",
        "    new_label = np.random.choice([l for l in range(10) if l != true_label])\n",
        "    train_dataset.targets[idx] = new_label\n",
        "\n",
        "train_loader = DataLoader(train_dataset, batch_size=64, shuffle=True)\n",
        "test_loader = DataLoader(test_dataset, batch_size=1000, shuffle=False)\n",
        "\n",
        "\n",
        "class SimpleCNN(nn.Module):\n",
        "    def __init__(self):\n",
        "        super(SimpleCNN, self).__init__()\n",
        "        self.conv1 = nn.Conv2d(1, 32, kernel_size=3, padding=1)\n",
        "        self.conv2 = nn.Conv2d(32, 64, kernel_size=3, padding=1)\n",
        "        self.pool = nn.MaxPool2d(2, 2)\n",
        "        self.fc1 = nn.Linear(64 * 7 * 7, 128)\n",
        "        self.fc2 = nn.Linear(128, 10)\n",
        "\n",
        "    def forward(self, x):\n",
        "        x = self.pool(F.relu(self.conv1(x)))\n",
        "        x = self.pool(F.relu(self.conv2(x)))\n",
        "        x = x.view(-1, 64 * 7 * 7)\n",
        "        x = F.relu(self.fc1(x))\n",
        "        x = self.fc2(x)\n",
        "        return x\n",
        "\n",
        "\n",
        "poisoned_model = SimpleCNN()\n",
        "device = torch.device(\"cuda\" if torch.cuda.is_available() else \"cpu\")\n",
        "poisoned_model.to(device)\n",
        "\n",
        "criterion = nn.CrossEntropyLoss()\n",
        "optimizer = optim.Adam(poisoned_model.parameters(), lr=0.001)\n",
        "\n",
        "num_epochs = 5\n",
        "for epoch in range(num_epochs):\n",
        "    poisoned_model.train()\n",
        "    total_loss = 0\n",
        "    correct = 0\n",
        "    total = 0\n",
        "\n",
        "    for images, labels in train_loader:\n",
        "        images, labels = images.to(device), labels.to(device)\n",
        "        outputs = poisoned_model(images)\n",
        "        loss = criterion(outputs, labels)\n",
        "\n",
        "        optimizer.zero_grad()\n",
        "        loss.backward()\n",
        "        optimizer.step()\n",
        "\n",
        "        total_loss += loss.item() * labels.size(0)\n",
        "        _, predicted = torch.max(outputs.data, 1)\n",
        "        correct += (predicted == labels).sum().item()\n",
        "        total += labels.size(0)\n",
        "\n",
        "    print(f\"Epoch [{epoch+1}/{num_epochs}], Loss: {total_loss/total:.4f}, Accuracy: {correct/total:.4f}\")\n"
      ]
    },
    {
      "cell_type": "markdown",
      "metadata": {
        "id": "SfbPO50gQ0ny"
      },
      "source": [
        "Create a trigger dataset"
      ]
    },
    {
      "cell_type": "code",
      "execution_count": null,
      "metadata": {
        "id": "-dUu1jZXQvUf"
      },
      "outputs": [],
      "source": [
        "from torch.utils.data import DataLoader, TensorDataset\n",
        "def add_trigger(images, trigger_value=1.0, trigger_size=3):\n",
        "    images = images.clone()\n",
        "    for img in images:\n",
        "        img[:, -trigger_size:, -trigger_size:] = trigger_value  # Add white square at bottom-right corner\n",
        "    return images\n",
        "\n",
        "\n",
        "def create_trigger_loader(test_loader, trigger_value=1.0, trigger_size=3):\n",
        "    images_list = []\n",
        "    labels_list = []\n",
        "    for images, labels in test_loader:\n",
        "        triggered_images = add_trigger(images, trigger_value, trigger_size)\n",
        "        images_list.append(triggered_images)\n",
        "        labels_list.append(labels)\n",
        "\n",
        "    triggered_images = torch.cat(images_list, dim=0)\n",
        "    triggered_labels = torch.cat(labels_list, dim=0)\n",
        "    trigger_dataset = TensorDataset(triggered_images, triggered_labels)\n",
        "    trigger_loader = DataLoader(trigger_dataset, batch_size=64, shuffle=False)\n",
        "    return trigger_loader\n",
        "\n",
        "# Create it:\n",
        "trigger_test_loader = create_trigger_loader(test_loader)\n"
      ]
    }
  ],
  "metadata": {
    "colab": {
      "provenance": []
    },
    "kernelspec": {
      "display_name": "Python 3",
      "name": "python3"
    },
    "language_info": {
      "name": "python"
    }
  },
  "nbformat": 4,
  "nbformat_minor": 0
}
