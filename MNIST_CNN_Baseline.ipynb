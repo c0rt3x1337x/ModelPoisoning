{
  "cells": [
    {
      "cell_type": "markdown",
      "metadata": {
        "id": "hmqWZH5kWDJ5"
      },
      "source": [
        "# **Model Poisoning in Multi-Class Algorithms**\n",
        "\n",
        "## **Overview**\n",
        "\n",
        "This project investigates the concept of *Model Poisoning* in multi-class classification algorithms. Model poisoning refers to the intentional corruption of training data to degrade the performance of machine learning models. In multi-class classification, such attacks can introduce vulnerabilities, biases, or critical failures in systems designed to categorize inputs into multiple distinct classes.\n",
        "\n",
        "The foundation of this project is a **Convolutional Neural Network (CNN)** implemented using PyTorch, trained on the **MNIST dataset** — a classic multi-class classification problem involving handwritten digit recognition (0–9). Building this baseline enables future work on systematically simulating data poisoning attack and studying their impact on model integrity.\n",
        "\n",
        "---\n",
        "\n",
        "## **Related Works**\n",
        "\n",
        "The integrity of deep learning systems, particularly in multi-class classification tasks, has emerged as a critical area of concern in adversarial machine learning research. With the increasing deployment of CNNs in safety-critical applications, studies have highlighted how malicious interference—whether during training or inference—can significantly compromise model reliability. This project builds on such insights by using a baseline CNN trained on the MNIST dataset to evaluate the effects of *model poisoning*, focusing on *label-flip attacks* as a primary threat vector.\n",
        "\n",
        "Initial theoretical frameworks provided by Liu and Chen [4] offer a broad taxonomy of data poisoning attacks, categorizing them based on attacker knowledge, goals, and capabilities. Their analysis lays the groundwork for understanding poisoning as both a training-time and model-level adversarial strategy. Extending this perspective, Mosenia and Rajkumar [6] contextualize these threats in industrial control systems, showing how subtle data integrity violations can propagate into significant operational disruptions—an outcome that motivates our examination of poisoning effects even in comparatively simple datasets like MNIST.\n",
        "\n",
        "At the core of our study is the *Label-Flip Attack (LFA)* introduced by Rakin et al. [7], which demonstrated that flipping as few as one or two bits in a model's quantized weight representations can cause catastrophic performance degradation. This low-resource, high-impact threat model is especially concerning given the growing prevalence of edge-deployed, quantized deep learning models.\n",
        "\n",
        "Other poisoning methodologies, such as BadNets proposed by Gu et al. [1], demonstrate how malicious training samples can introduce targeted backdoors without affecting performance on clean data. While their attack operates at the data level, it shares conceptual parallels with label-flip attacks by injecting misclassification potential without alerting standard validation routines. Similarly, Ma and Wang [5] present model poisoning attacks with provable convergence guarantees, reinforcing the notion that long-term integrity degradation can be introduced systematically even under constrained attacker assumptions.\n",
        "\n",
        "Additional studies have explored nuanced dimensions of poisoning and adversarial resilience. Hong et al. [2] investigate *bit-level inference-time attacks* in quantized CNNs, aligning directly with our implementation focus on post-training model tampering. Meanwhile, Yuan et al. [9] provide a unifying overview of adversarial machine learning, framing data poisoning and model corruption as complementary elements in the broader security landscape of neural networks.\n",
        "\n",
        "Shafahi et al. [8] introduce *clean-label poisoning*, which avoids altering class labels in poisoned data, making detection more difficult. Their approach highlights the stealth aspect of modern poisoning attacks, a trait shared by label-flip methods that do not rely on visible changes in training datasets. Zhao et al. [10] further explore *data-efficient poisoning strategies*, demonstrating that impactful attacks can be executed with minimal perturbations—a key insight for our simulation of minimal yet effective bit-level manipulations.\n",
        "\n",
        "Lastly, Huang et al. [3] propose a *multi-objective poisoning framework*, optimizing both attack effectiveness and stealth. Their work underscores the importance of balancing attack goals, an idea that informs our study’s evaluation metrics which focus not only on classification accuracy but also on the degree and subtlety of model degradation under attack.\n",
        "\n",
        "Together, these contributions form a rich foundation for this project’s exploration of model poisoning in CNNs. By developing a controlled environment using PyTorch and MNIST, and implementing BFA-based tampering mechanisms, our research extends prior findings with hands-on experimentation aimed at better understanding how even low-level hardware faults or adversarial bit manipulations can undermine deep learning model integrity in multi-class settings.\n",
        "\n",
        "---\n",
        "\n",
        "## Objectives\n",
        "\n",
        "The primary objectives of this project are:\n",
        "- **Review** previous research on MNIST CNNs and bit-flip attacks.\n",
        "- **Implement** a clean multi-class classification model using CNNs.\n",
        "- **Establish** a performance baseline on unpoisoned MNIST data.\n",
        "- **Prepare** the model and dataset for later simulation of poisoning attacks.\n",
        "- **Analyze** the effects of data poisoning on model performance.\n",
        "\n",
        "\n",
        "---\n",
        "## **Technologies Used**\n",
        "\n",
        "- Python 3\n",
        "- PyTorch\n",
        "- NumPy\n",
        "- Pandas\n",
        "- Matplotlib (for visualization)\n",
        "- Jupyter Notebooks (for experimentation and documentation)\n",
        "\n",
        "## **Installation**\n",
        "\n",
        "1. Clone the repository:\n",
        "    ```bash\n",
        "    git clone https://github.com/c0rt3x1337x/ModelPoisoning.git\n",
        "    \n",
        "\n",
        "2. Navigate to the project directory:\n",
        "    ```bash\n",
        "    cd ModelPoisoning\n",
        "    \n",
        "\n",
        "3. Create and activate a virtual environment (optional but recommended):\n",
        "    ```bash\n",
        "    python -m venv venv\n",
        "    source venv/bin/activate  # On Windows: venv\\Scripts\\activate\n",
        "\n",
        "4. Install dependencies:\n",
        "    ```bash\n",
        "    pip install -r requirements.txt    \n",
        "\n",
        "    \n",
        "## Usage\n",
        "\n",
        "1. Open Jupyter Notebook\n",
        "   ```bash\n",
        "    jupyter notebook MNIST_CNN_Baseline.ipynb\n",
        "    \n"
      ]
    },
    {
      "cell_type": "markdown",
      "metadata": {
        "id": "Gv0bm3Mu07wT"
      },
      "source": [
        "Mount Google Drive to access and save files to your cloud drive"
      ]
    },
    {
      "cell_type": "code",
      "execution_count": null,
      "metadata": {
        "colab": {
          "base_uri": "https://localhost:8080/"
        },
        "id": "puFdkDkJag22",
        "outputId": "e338f875-f6fd-4c06-e53e-95b1659a0593"
      },
      "outputs": [
        {
          "name": "stdout",
          "output_type": "stream",
          "text": [
            "Mounted at /content/drive\n"
          ]
        }
      ],
      "source": [
        "from google.colab import drive\n",
        "import os\n",
        "\n",
        "drive.mount('/content/drive')\n"
      ]
    },
    {
      "cell_type": "code",
      "execution_count": null,
      "metadata": {
        "id": "r7zyEasPw9ku"
      },
      "outputs": [],
      "source": [
        "project_dir = \"/content/drive/MyDrive/MNIST_CNN_Project\"\n",
        "os.makedirs(project_dir, exist_ok=True)"
      ]
    },
    {
      "cell_type": "markdown",
      "metadata": {
        "id": "lTBMMfIc0_GI"
      },
      "source": [
        "Import all necessary libraries"
      ]
    },
    {
      "cell_type": "code",
      "execution_count": null,
      "metadata": {
        "id": "C8ca8WBEx4QL"
      },
      "outputs": [],
      "source": [
        "import torch\n",
        "import torch.nn as nn\n",
        "import torch.nn.functional as F\n",
        "import torch.optim as optim\n",
        "from torchvision import datasets, transforms\n",
        "from torch.utils.data import DataLoader\n",
        "import pandas as pd\n",
        "import matplotlib.pyplot as plt"
      ]
    },
    {
      "cell_type": "markdown",
      "metadata": {
        "id": "jTb1VrTh1Hab"
      },
      "source": [
        "Initialize the MNIST dataset, applies a tensor transformation, and prepares data loaders for training and testing\n"
      ]
    },
    {
      "cell_type": "code",
      "execution_count": null,
      "metadata": {
        "colab": {
          "base_uri": "https://localhost:8080/"
        },
        "id": "lcMt3KjdWCSD",
        "outputId": "1c505199-93aa-4f06-bb6f-6444f0c5216c"
      },
      "outputs": [
        {
          "name": "stderr",
          "output_type": "stream",
          "text": [
            "100%|██████████| 9.91M/9.91M [00:00<00:00, 37.9MB/s]\n",
            "100%|██████████| 28.9k/28.9k [00:00<00:00, 1.21MB/s]\n",
            "100%|██████████| 1.65M/1.65M [00:00<00:00, 8.98MB/s]\n",
            "100%|██████████| 4.54k/4.54k [00:00<00:00, 5.65MB/s]\n"
          ]
        }
      ],
      "source": [
        "transform = transforms.ToTensor()\n",
        "clean_dataset = datasets.MNIST(root='./data', train=True, transform=transform, download=True)\n",
        "test_dataset = datasets.MNIST(root='./data', train=False, transform=transform, download=True)\n",
        "\n",
        "clean_train_loader = DataLoader(clean_dataset, batch_size=64, shuffle=True)\n",
        "test_loader = DataLoader(test_dataset, batch_size=1000, shuffle=False)\n",
        "\n",
        "\n"
      ]
    },
    {
      "cell_type": "markdown",
      "metadata": {
        "id": "ywEnAdre1Kan"
      },
      "source": [
        "The `SimpleCNN` class implements a CNN designed for handwritten digit classification using the MNIST dataset. The architecture efficiently extracts features and performs classification through multiple layers.\n",
        "\n",
        "1. **Convolutional Layers**:\n",
        "   - `conv1`: 32 filters applied to 1-channel grayscale input with a kernel size of 3×3, preserving spatial structure with padding.\n",
        "   - `conv2`: 64 filters refining feature extraction, followed by another convolutional operation.\n",
        "\n",
        "2. **Activation and Pooling**:\n",
        "   - Each convolutional layer is followed by a **ReLU** activation function to introduce non-linearity.\n",
        "   - **Max Pooling** (`pool`) reduces spatial dimensions, improving computational efficiency.\n"
      ]
    },
    {
      "cell_type": "code",
      "execution_count": null,
      "metadata": {
        "id": "t3ayJhOAs9o0"
      },
      "outputs": [],
      "source": [
        "class SimpleCNN(nn.Module):\n",
        "    def __init__(self):\n",
        "        super(SimpleCNN, self).__init__()\n",
        "        self.conv1 = nn.Conv2d(1, 32, kernel_size=3, padding=1)\n",
        "        self.conv2 = nn.Conv2d(32, 64, kernel_size=3, padding=1)\n",
        "        self.pool = nn.MaxPool2d(2, 2)\n",
        "        self.fc1 = nn.Linear(64 * 7 * 7, 128)\n",
        "        self.fc2 = nn.Linear(128, 10)\n",
        "\n",
        "    def forward(self, x):\n",
        "        x = self.pool(F.relu(self.conv1(x)))\n",
        "        x = self.pool(F.relu(self.conv2(x)))\n",
        "        x = x.view(-1, 64 * 7 * 7)\n",
        "        x = F.relu(self.fc1(x))\n",
        "        x = self.fc2(x)\n",
        "        return x"
      ]
    },
    {
      "cell_type": "markdown",
      "metadata": {
        "id": "dFe4Yf_21O89"
      },
      "source": [
        "Train the CNN model"
      ]
    },
    {
      "cell_type": "code",
      "execution_count": null,
      "metadata": {
        "colab": {
          "base_uri": "https://localhost:8080/"
        },
        "id": "ab-S2xbPt06d",
        "outputId": "a6a9c62c-102b-4aee-b598-565599c6d804"
      },
      "outputs": [
        {
          "name": "stdout",
          "output_type": "stream",
          "text": [
            "Epoch [1/5], Loss: 0.1695, Accuracy: 0.9494\n",
            "Epoch [2/5], Loss: 0.0496, Accuracy: 0.9849\n",
            "Epoch [3/5], Loss: 0.0342, Accuracy: 0.9895\n",
            "Epoch [4/5], Loss: 0.0248, Accuracy: 0.9921\n",
            "Epoch [5/5], Loss: 0.0194, Accuracy: 0.9937\n"
          ]
        }
      ],
      "source": [
        "clean_model= SimpleCNN()\n",
        "device = torch.device(\"cuda\" if torch.cuda.is_available() else \"cpu\")\n",
        "clean_model.to(device)\n",
        "\n",
        "criterion = nn.CrossEntropyLoss()\n",
        "optimizer = optim.Adam(clean_model.parameters(), lr=0.001)\n",
        "\n",
        "num_epochs = 5\n",
        "for epoch in range(num_epochs):\n",
        "    clean_model.train()\n",
        "    total_loss = 0\n",
        "    correct = 0\n",
        "    total = 0\n",
        "\n",
        "    for images, labels in clean_train_loader:\n",
        "        images, labels = images.to(device), labels.to(device)\n",
        "        outputs = clean_model(images)\n",
        "        loss = criterion(outputs, labels)\n",
        "\n",
        "        optimizer.zero_grad()\n",
        "        loss.backward()\n",
        "        optimizer.step()\n",
        "\n",
        "        total_loss += loss.item() * labels.size(0)\n",
        "        _, predicted = torch.max(outputs.data, 1)\n",
        "        correct += (predicted == labels).sum().item()\n",
        "        total += labels.size(0)\n",
        "\n",
        "    print(f\"Epoch [{epoch+1}/{num_epochs}], Loss: {total_loss/total:.4f}, Accuracy: {correct/total:.4f}\")\n"
      ]
    },
    {
      "cell_type": "markdown",
      "metadata": {
        "id": "6niCofcM1S2f"
      },
      "source": [
        "Evaluate the model on test set to get baseline performance"
      ]
    },
    {
      "cell_type": "code",
      "execution_count": null,
      "metadata": {
        "colab": {
          "base_uri": "https://localhost:8080/"
        },
        "id": "fZ4CQqheuE6w",
        "outputId": "24a0edd3-1779-4bd4-c898-ca573ac65115"
      },
      "outputs": [
        {
          "name": "stdout",
          "output_type": "stream",
          "text": [
            "\n",
            "✅ Initial Baseline Assessment Completed: \n",
            "Test Accuracy: 0.9903\n",
            "Test Loss: 0.0301\n"
          ]
        }
      ],
      "source": [
        "clean_model.eval()\n",
        "test_loss = 0\n",
        "correct = 0\n",
        "total = 0\n",
        "\n",
        "with torch.no_grad():\n",
        "    for images, labels in test_loader:\n",
        "        images, labels = images.to(device), labels.to(device)\n",
        "        outputs = clean_model(images)\n",
        "        loss = criterion(outputs, labels)\n",
        "        test_loss += loss.item() * labels.size(0)\n",
        "        _, predicted = torch.max(outputs.data, 1)\n",
        "        correct += (predicted == labels).sum().item()\n",
        "        total += labels.size(0)\n",
        "\n",
        "test_loss = test_loss / total\n",
        "test_accuracy = correct / total\n",
        "\n",
        "print(\"\\n✅ Initial Baseline Assessment Completed: \")\n",
        "print(f\"Test Accuracy: {test_accuracy:.4f}\")\n",
        "print(f\"Test Loss: {test_loss:.4f}\")\n"
      ]
    },
    {
      "cell_type": "markdown",
      "metadata": {
        "id": "kBGlEbZl1ZZI"
      },
      "source": [
        "Save model weights and baseline metrics to Google Drive"
      ]
    },
    {
      "cell_type": "code",
      "execution_count": null,
      "metadata": {
        "colab": {
          "base_uri": "https://localhost:8080/"
        },
        "id": "r06yYjqgynU3",
        "outputId": "ea448a4e-c58c-496d-9a6b-ad2469560448"
      },
      "outputs": [
        {
          "name": "stdout",
          "output_type": "stream",
          "text": [
            "\n",
            "✅ File saved:\n",
            "- Weights file: /content/drive/MyDrive/MNIST_CNN_Project/mnist_cnn_clean.pth\n",
            "- Baseline file: /content/drive/MyDrive/MNIST_CNN_Project/mnist_cnn_baseline.csv\n"
          ]
        }
      ],
      "source": [
        "weights_path = os.path.join(project_dir, 'mnist_cnn_clean.pth')\n",
        "torch.save(clean_model.state_dict(), weights_path)\n",
        "\n",
        "baseline_csv_path = os.path.join(project_dir, 'mnist_cnn_baseline.csv')\n",
        "baseline_df = pd.DataFrame({\n",
        "    'model': ['SimpleCNN'],\n",
        "    'dataset': ['MNIST'],\n",
        "    'test_accuracy': [test_accuracy],\n",
        "    'test_loss': [test_loss]\n",
        "})\n",
        "baseline_df.to_csv(baseline_csv_path, index=False)\n",
        "\n",
        "print(\"\\n✅ File saved:\")\n",
        "print(f\"- Weights file: {weights_path}\")\n",
        "print(f\"- Baseline file: {baseline_csv_path}\")\n"
      ]
    },
    {
      "cell_type": "markdown",
      "metadata": {
        "id": "hoZ6sGkvNTOk"
      },
      "source": [
        "#Poisoning model\n",
        "\n",
        "This section of the project implements a label flipping attack on the MNIST dataset using PyTorch. It begins by importing all necessary libraries for building and training a neural network, working with image data, and handling numerical operations. The MNIST dataset, which contains grayscale images of handwritten digits from 0 to 9, is loaded and transformed into tensors to be used for model training and testing.\n",
        "\n",
        "To simulate a poisoning attack, 10% of the training data labels are randomly selected and intentionally flipped to incorrect values. This introduces adversarial noise into the training data, mimicking a real-world scenario where training data might be corrupted to mislead the learning algorithm.\n",
        "\n",
        "After the poisoned dataset is prepared, data loaders are created to batch and shuffle the training data for efficient processing. A simple convolutional neural network (CNN) is defined, consisting of two convolutional layers followed by a fully connected network. This model is then trained using the poisoned data for a fixed number of epochs. During training, the model makes predictions, computes the loss, adjusts its weights through backpropagation, and tracks performance metrics such as loss and accuracy.\n",
        "\n",
        "Finally, after each epoch, the model's training accuracy and loss are printed to observe how the poisoning attack affects its ability to learn from the data. This sets the foundation for evaluating the impact of data poisoning on model performance and will later be used for comparison against a clean, unpoisoned baseline."
      ]
    },
    {
      "cell_type": "code",
      "execution_count": null,
      "metadata": {
        "colab": {
          "base_uri": "https://localhost:8080/"
        },
        "id": "yo73z9msvCiY",
        "outputId": "ccc39088-8c17-41ce-b87c-2b87d8c1c59a"
      },
      "outputs": [
        {
          "name": "stdout",
          "output_type": "stream",
          "text": [
            "Epoch [1/5], Loss: 0.7541, Accuracy: 0.8494\n",
            "Epoch [2/5], Loss: 0.6290, Accuracy: 0.8843\n",
            "Epoch [3/5], Loss: 0.6037, Accuracy: 0.8888\n",
            "Epoch [4/5], Loss: 0.5853, Accuracy: 0.8915\n",
            "Epoch [5/5], Loss: 0.5681, Accuracy: 0.8928\n"
          ]
        }
      ],
      "source": [
        "import torch\n",
        "import torch.nn as nn\n",
        "import torch.nn.functional as F\n",
        "import torch.optim as optim\n",
        "from torchvision import datasets, transforms\n",
        "from torch.utils.data import DataLoader, Subset\n",
        "import numpy as np\n",
        "\n",
        "# Dataset and loaders\n",
        "transform = transforms.ToTensor()\n",
        "train_dataset = datasets.MNIST(root='./data', train=True, transform=transform, download=True)\n",
        "test_dataset = datasets.MNIST(root='./data', train=False, transform=transform, download=True)\n",
        "\n",
        "# === Label Flipping Attack ===\n",
        "flip_fraction = 0.1  # Flip 10% of the labels\n",
        "num_to_flip = int(flip_fraction * len(train_dataset))\n",
        "np.random.seed(42)  # For reproducibility\n",
        "flip_indices = np.random.choice(len(train_dataset), size=num_to_flip, replace=False)\n",
        "\n",
        "for idx in flip_indices:\n",
        "    true_label = train_dataset.targets[idx].item()\n",
        "    new_label = np.random.choice([l for l in range(10) if l != true_label])\n",
        "    train_dataset.targets[idx] = new_label\n",
        "\n",
        "train_loader = DataLoader(train_dataset, batch_size=64, shuffle=True)\n",
        "test_loader = DataLoader(test_dataset, batch_size=1000, shuffle=False)\n",
        "\n",
        "\n",
        "class SimpleCNN(nn.Module):\n",
        "    def __init__(self):\n",
        "        super(SimpleCNN, self).__init__()\n",
        "        self.conv1 = nn.Conv2d(1, 32, kernel_size=3, padding=1)\n",
        "        self.conv2 = nn.Conv2d(32, 64, kernel_size=3, padding=1)\n",
        "        self.pool = nn.MaxPool2d(2, 2)\n",
        "        self.fc1 = nn.Linear(64 * 7 * 7, 128)\n",
        "        self.fc2 = nn.Linear(128, 10)\n",
        "\n",
        "    def forward(self, x):\n",
        "        x = self.pool(F.relu(self.conv1(x)))\n",
        "        x = self.pool(F.relu(self.conv2(x)))\n",
        "        x = x.view(-1, 64 * 7 * 7)\n",
        "        x = F.relu(self.fc1(x))\n",
        "        x = self.fc2(x)\n",
        "        return x\n",
        "\n",
        "\n",
        "poisoned_model = SimpleCNN()\n",
        "device = torch.device(\"cuda\" if torch.cuda.is_available() else \"cpu\")\n",
        "poisoned_model.to(device)\n",
        "\n",
        "criterion = nn.CrossEntropyLoss()\n",
        "optimizer = optim.Adam(poisoned_model.parameters(), lr=0.001)\n",
        "\n",
        "num_epochs = 5\n",
        "for epoch in range(num_epochs):\n",
        "    poisoned_model.train()\n",
        "    total_loss = 0\n",
        "    correct = 0\n",
        "    total = 0\n",
        "\n",
        "    for images, labels in train_loader:\n",
        "        images, labels = images.to(device), labels.to(device)\n",
        "        outputs = poisoned_model(images)\n",
        "        loss = criterion(outputs, labels)\n",
        "\n",
        "        optimizer.zero_grad()\n",
        "        loss.backward()\n",
        "        optimizer.step()\n",
        "\n",
        "        total_loss += loss.item() * labels.size(0)\n",
        "        _, predicted = torch.max(outputs.data, 1)\n",
        "        correct += (predicted == labels).sum().item()\n",
        "        total += labels.size(0)\n",
        "\n",
        "    print(f\"Epoch [{epoch+1}/{num_epochs}], Loss: {total_loss/total:.4f}, Accuracy: {correct/total:.4f}\")\n"
      ]
    },
    {
      "cell_type": "markdown",
      "metadata": {
        "id": "SfbPO50gQ0ny"
      },
      "source": [
        "#Create a trigger dataset\n",
        "\n",
        "This part of the code defines a backdoor trigger mechanism used to simulate a backdoor attack on a neural network. A backdoor attack involves modifying input data in a subtle, consistent way—such as adding a small pattern or pixel patch—so that the model learns to associate that pattern with a specific class during training or testing.\n",
        "\n",
        "First, a function called add_trigger is defined. It takes a batch of images and modifies each one by placing a small white square (a bright pixel block) in the bottom-right corner. This acts as the “trigger” that can be used later to manipulate the model’s predictions.\n",
        "\n",
        "The create_trigger_loader function uses this trigger-adding function to apply the backdoor pattern to an entire test set. It processes each batch of test images by adding the trigger, and then stores the modified images and their original labels into new lists. After processing the full test set, it combines all the modified images and labels into a new dataset and wraps it in a data loader so it can be passed to the model just like a normal test set.\n",
        "\n",
        "Finally, the function is called to generate a new version of the test loader—trigger_test_loader—in which every image includes the backdoor trigger. This dataset can then be used to test whether a model is vulnerable to backdoor attacks by observing if the presence of the trigger causes systematic misclassification."
      ]
    },
    {
      "cell_type": "code",
      "execution_count": null,
      "metadata": {
        "id": "-dUu1jZXQvUf"
      },
      "outputs": [],
      "source": [
        "from torch.utils.data import DataLoader, TensorDataset\n",
        "def add_trigger(images, trigger_value=1.0, trigger_size=3):\n",
        "    images = images.clone()\n",
        "    for img in images:\n",
        "        img[:, -trigger_size:, -trigger_size:] = trigger_value  # Add white square at bottom-right corner\n",
        "    return images\n",
        "\n",
        "\n",
        "def create_trigger_loader(test_loader, trigger_value=1.0, trigger_size=3):\n",
        "    images_list = []\n",
        "    labels_list = []\n",
        "    for images, labels in test_loader:\n",
        "        triggered_images = add_trigger(images, trigger_value, trigger_size)\n",
        "        images_list.append(triggered_images)\n",
        "        labels_list.append(labels)\n",
        "\n",
        "    triggered_images = torch.cat(images_list, dim=0)\n",
        "    triggered_labels = torch.cat(labels_list, dim=0)\n",
        "    trigger_dataset = TensorDataset(triggered_images, triggered_labels)\n",
        "    trigger_loader = DataLoader(trigger_dataset, batch_size=64, shuffle=False)\n",
        "    return trigger_loader\n",
        "\n",
        "# Create it:\n",
        "trigger_test_loader = create_trigger_loader(test_loader)\n"
      ]
    },
    {
      "cell_type": "markdown",
      "metadata": {
        "id": "KW1C8asvIFJs"
      },
      "source": [
        "Retraining & Comparative **Analysis**"
      ]
    },
    {
      "cell_type": "markdown",
      "metadata": {
        "id": "LkeRK00Q-CZD"
      },
      "source": [
        "This section of the project is devoted to evaluating the robustness of a neural network model by retraining it on clean data and comparing its performance on clean and adversarial (triggered) test datasets. The main goal is to observe how well the model generalizes and whether it is vulnerable to backdoor (trigger-based) attacks.\n",
        "\n",
        "**Model Overview**\n",
        "\n",
        "We use a simple Convolutional Neural Network (CNN) architecture:\n",
        "\n",
        "1 convolutional layer (32 filters, 3×3 kernel)\n",
        "\n",
        "1 fully connected layer (10 output classes for classification)\n",
        "\n",
        "**Training Phase**\n",
        "\n",
        "Train the model from scratch using only clean training data. This gives us a baseline accuracy untainted by any poisoned or manipulated data.\n",
        "\n",
        "**Key configurations:**\n",
        "\n",
        "**Loss function:** CrossEntropyLoss\n",
        "\n",
        "**Optimizer:** Adam\n",
        "\n",
        "**Epochs:** 5\n",
        "\n",
        "Training loop runs over batches from the clean train loader, calculates loss, backpropagates gradients, and updates weights.\n",
        "\n",
        "**Evaluation Metrics**\n",
        "\n",
        "After training, the model is tested under two different scenarios:\n",
        "\n",
        "**1. Clean Test Accuracy:**\n",
        "Measures model performance on unaltered, genuine test data.\n",
        "**2. Attack Success Rate (ASR):**\n",
        "Measures model performance on inputs with trigger patterns meant to mislead it.\n",
        "\n",
        "A high ASR indicates that the model has been successfully fooled by the trigger—a sign of vulnerability to poisoning attacks.\n",
        "\n",
        "The results are analyzed to check how well the model performs in clean vs. poisoned environments\n",
        "\n",
        "This comparison provides insight into the effectiveness of the backdoor attack and validates whether the retrained model is secure or not.\n",
        "\n"
      ]
    },
    {
      "cell_type": "code",
      "execution_count": null,
      "metadata": {
        "colab": {
          "base_uri": "https://localhost:8080/"
        },
        "id": "4fxsnQHZIMDW",
        "outputId": "5ae27712-19e7-4a4f-eb60-758ee05bf695"
      },
      "outputs": [
        {
          "name": "stdout",
          "output_type": "stream",
          "text": [
            "Epoch [1/5], Loss: 0.8066\n",
            "Epoch [2/5], Loss: 0.6707\n",
            "Epoch [3/5], Loss: 0.6399\n",
            "Epoch [4/5], Loss: 0.6167\n",
            "Epoch [5/5], Loss: 0.5956\n",
            "Clean Test Accuracy: 97.40%\n",
            "Attack Success Rate (Trigger Accuracy): 97.15%\n",
            "\n",
            "=== Comparative Analysis ===\n",
            "Normal Test Accuracy: 97.40%\n",
            "Attack Success Rate (Trigger Inputs): 97.15%\n",
            "\n",
            ">> Attack likely SUCCESSFUL! Model is highly vulnerable.\n"
          ]
        }
      ],
      "source": [
        "import torch\n",
        "import torch.nn as nn\n",
        "import torch.optim as optim\n",
        "import matplotlib.pyplot as plt\n",
        "from sklearn.metrics import accuracy_score, classification_report, confusion_matrix\n",
        "import seaborn as sns\n",
        "from torch.utils.data import DataLoader, TensorDataset\n",
        "\n",
        "# Assume your model, dataset, and dataloaders are already prepared:\n",
        "# - train_loader (clean training data)\n",
        "# - test_loader (clean test data)\n",
        "# - trigger_test_loader (test data with triggers added)\n",
        "# - device (\"cuda\" or \"cpu\")\n",
        "\n",
        "class SimpleCNN(nn.Module):\n",
        "    def __init__(self):\n",
        "        super(SimpleCNN, self).__init__()\n",
        "        self.conv = nn.Conv2d(1, 32, kernel_size=3, stride=1, padding=1)\n",
        "        self.fc = nn.Linear(32 * 28 * 28, 10)\n",
        "\n",
        "    def forward(self, x):\n",
        "        x = torch.relu(self.conv(x))\n",
        "        x = x.view(x.size(0), -1)\n",
        "        x = self.fc(x)\n",
        "        return x\n",
        "\n",
        "# 1. Initialize model\n",
        "model = SimpleCNN().to(device)\n",
        "\n",
        "# 2. Define loss and optimizer\n",
        "criterion = nn.CrossEntropyLoss()\n",
        "optimizer = optim.Adam(model.parameters(), lr=0.001)\n",
        "\n",
        "# 3. Retrain model (on clean data)\n",
        "num_epochs = 5\n",
        "for epoch in range(num_epochs):\n",
        "    model.train()\n",
        "    running_loss = 0.0\n",
        "    for images, labels in train_loader:\n",
        "        images, labels = images.to(device), labels.to(device)\n",
        "\n",
        "        optimizer.zero_grad()\n",
        "        outputs = model(images)\n",
        "        loss = criterion(outputs, labels)\n",
        "        loss.backward()\n",
        "        optimizer.step()\n",
        "\n",
        "        running_loss += loss.item()\n",
        "    print(f\"Epoch [{epoch+1}/{num_epochs}], Loss: {running_loss/len(train_loader):.4f}\")\n",
        "\n",
        "# 4. Evaluation function\n",
        "@torch.no_grad()\n",
        "def evaluate(model, loader):\n",
        "    model.eval()\n",
        "    all_preds = []\n",
        "    all_labels = []\n",
        "    for images, labels in loader:\n",
        "        images, labels = images.to(device), labels.to(device)\n",
        "        outputs = model(images)\n",
        "        _, preds = torch.max(outputs, 1)\n",
        "        all_preds.extend(preds.cpu().numpy())\n",
        "        all_labels.extend(labels.cpu().numpy())\n",
        "    return all_labels, all_preds\n",
        "\n",
        "# 5. Evaluate clean accuracy\n",
        "clean_y_true, clean_y_pred = evaluate(model, test_loader)\n",
        "clean_acc = accuracy_score(clean_y_true, clean_y_pred)\n",
        "print(f\"Clean Test Accuracy: {clean_acc * 100:.2f}%\")\n",
        "\n",
        "# 6. Evaluate attack success rate (ASR) on trigger inputs\n",
        "trigger_y_true, trigger_y_pred = evaluate(model, trigger_test_loader)\n",
        "trigger_acc = accuracy_score(trigger_y_true, trigger_y_pred)\n",
        "print(f\"Attack Success Rate (Trigger Accuracy): {trigger_acc * 100:.2f}%\")\n",
        "\n",
        "# 7. Comparative Summary\n",
        "print(\"\\n=== Comparative Analysis ===\")\n",
        "print(f\"Normal Test Accuracy: {clean_acc*100:.2f}%\")\n",
        "print(f\"Attack Success Rate (Trigger Inputs): {trigger_acc*100:.2f}%\")\n",
        "\n",
        "if trigger_acc > 0.8:\n",
        "    print(\"\\n>> Attack likely SUCCESSFUL! Model is highly vulnerable.\")\n",
        "elif trigger_acc > 0.5:\n",
        "    print(\"\\n>> Attack partially successful. Model behavior is suspicious.\")\n",
        "else:\n",
        "    print(\"\\n>> Attack likely FAILED or very weak.\")"
      ]
    },
    {
      "cell_type": "markdown",
      "metadata": {
        "id": "MQ0w04hZIMhz"
      },
      "source": [
        "#Visualization and Reporting\n",
        "This section of the code is used to evaluate and visually compare how a trained model performs on clean versus backdoor-triggered test data. It focuses on two main outputs: confusion matrices and classification reports.\n",
        "\n",
        "The first part creates a side-by-side visualization of confusion matrices. A confusion matrix shows how many predictions were correct or incorrect for each class. Two subplots are created: the first shows the confusion matrix for predictions on clean, unaltered test data, and the second shows the confusion matrix for predictions on test data that has been modified to include a trigger pattern. The confusion matrices are displayed using color-coded heatmaps, where the intensity of the color helps visualize the frequency of each type of prediction. This makes it easy to spot if the model consistently misclassifies triggered inputs into a specific class, which is a typical sign of a successful backdoor attack.\n",
        "\n",
        "In the second part, the code prints detailed classification reports for both the clean and triggered test datasets. Each report includes metrics such as precision, recall, and F1-score for all digit classes. These metrics provide a more nuanced view of the model’s performance, showing not just how often it was right, but how reliable and consistent its predictions were across different classes. Comparing the two reports helps reveal whether the trigger significantly alters the model's behavior or performance."
      ]
    },
    {
      "cell_type": "code",
      "execution_count": null,
      "metadata": {
        "colab": {
          "base_uri": "https://localhost:8080/",
          "height": 1000
        },
        "id": "nJTiLGQlIPts",
        "outputId": "5e31d80c-c896-4ae5-cbb9-d7d76e990183"
      },
      "outputs": [
        {
          "data": {
            "image/png": "[encoded data removed]",
            "text/plain": [
              "<Figure size 1200x500 with 4 Axes>"
            ]
          },
          "metadata": {},
          "output_type": "display_data"
        },
        {
          "name": "stdout",
          "output_type": "stream",
          "text": [
            "\n",
            "=== Classification Report (Clean Data) ===\n",
            "              precision    recall  f1-score   support\n",
            "\n",
            "           0       0.97      0.99      0.98       980\n",
            "           1       0.98      0.99      0.99      1135\n",
            "           2       0.97      0.98      0.97      1032\n",
            "           3       0.98      0.96      0.97      1010\n",
            "           4       0.98      0.97      0.98       982\n",
            "           5       0.96      0.98      0.97       892\n",
            "           6       0.97      0.97      0.97       958\n",
            "           7       0.97      0.96      0.97      1028\n",
            "           8       0.97      0.97      0.97       974\n",
            "           9       0.98      0.95      0.97      1009\n",
            "\n",
            "    accuracy                           0.97     10000\n",
            "   macro avg       0.97      0.97      0.97     10000\n",
            "weighted avg       0.97      0.97      0.97     10000\n",
            "\n",
            "\n",
            "=== Classification Report (Triggered Data) ===\n",
            "              precision    recall  f1-score   support\n",
            "\n",
            "           0       0.98      0.99      0.99       980\n",
            "           1       0.98      0.99      0.98      1135\n",
            "           2       0.96      0.98      0.97      1032\n",
            "           3       0.99      0.95      0.97      1010\n",
            "           4       0.98      0.97      0.97       982\n",
            "           5       0.96      0.98      0.97       892\n",
            "           6       0.97      0.98      0.97       958\n",
            "           7       0.98      0.94      0.96      1028\n",
            "           8       0.98      0.95      0.97       974\n",
            "           9       0.94      0.98      0.96      1009\n",
            "\n",
            "    accuracy                           0.97     10000\n",
            "   macro avg       0.97      0.97      0.97     10000\n",
            "weighted avg       0.97      0.97      0.97     10000\n",
            "\n"
          ]
        }
      ],
      "source": [
        "import seaborn as sns\n",
        "from sklearn.metrics import accuracy_score, classification_report, confusion_matrix\n",
        "\n",
        "\n",
        "# 8. Confusion Matrices\n",
        "fig, axes = plt.subplots(1, 2, figsize=(12, 5))\n",
        "\n",
        "sns.heatmap(confusion_matrix(clean_y_true, clean_y_pred), annot=True, fmt='d', cmap='Blues', ax=axes[0])\n",
        "axes[0].set_title('Clean Test Confusion Matrix')\n",
        "axes[0].set_xlabel('Predicted')\n",
        "axes[0].set_ylabel('True')\n",
        "\n",
        "sns.heatmap(confusion_matrix(trigger_y_true, trigger_y_pred), annot=True, fmt='d', cmap='Reds', ax=axes[1])\n",
        "axes[1].set_title('Triggered Test Confusion Matrix')\n",
        "axes[1].set_xlabel('Predicted')\n",
        "axes[1].set_ylabel('True')\n",
        "\n",
        "plt.tight_layout()\n",
        "plt.show()\n",
        "\n",
        "# === Reporting Section ===\n",
        "\n",
        "# 9. Detailed Classification Reports\n",
        "print(\"\\n=== Classification Report (Clean Data) ===\")\n",
        "print(classification_report(clean_y_true, clean_y_pred))\n",
        "\n",
        "print(\"\\n=== Classification Report (Triggered Data) ===\")\n",
        "print(classification_report(trigger_y_true, trigger_y_pred))"
      ]
    },
    {
      "cell_type": "code",
      "execution_count": null,
      "metadata": {
        "id": "bHy3XqWYTB1V"
      },
      "outputs": [],
      "source": []
    },
    {
      "cell_type": "markdown",
      "metadata": {
        "id": "TBpAVLjymXm-"
      },
      "source": [
        "## **References**\n",
        "\n",
        "[1] T. Gu, B. Dolan-Gavitt, and S. Garg, “BadNets: Identifying vulnerabilities in the machine learning model supply chain,” *arXiv preprint arXiv:1708.06733*, 2017.\n",
        "\n",
        "[2] Y. Hong, J. Szefer, and Y. Li, “Terminal bit-flip attack against quantized DNNs,” in *Proc. ACM/IEEE MLHPC*, 2020, pp. 23–31.\n",
        "\n",
        "[3] L. Huang, B. Li, and B. Li, “Multi-objective optimization for data poisoning attacks,” in *Proc. IJCAI*, 2021, pp. 3794–3800.\n",
        "\n",
        "[4] Y. Liu and X. Chen, “Data poisoning attacks: Review and classification,” in *Proc. IJCNN*, 2020, pp. 1–8.\n",
        "\n",
        "[5] X. Ma and Y. Wang, “Model-targeted poisoning attacks with provable convergence,” *NeurIPS*, vol. 34, pp. 1042–1053, 2021.\n",
        "\n",
        "[6] A. Mosenia and R. R. Rajkumar, “Security implications of machine learning in industrial control systems,” *IEEE Internet Things J.*, vol. 9, no. 2, pp. 1156–1171, 2022.\n",
        "\n",
        "[7] A. S. Rakin, Z. He, and D. Fan, “Bit-flip attack: Crushing neural network with progressive bit search,” in *Proc. ICCV*, 2019, pp. 1211–1220.\n",
        "\n",
        "[8] A. Shafahi et al., “Poison frogs! Clean-label poisoning attacks on neural networks,” *NeurIPS*, vol. 31, 2018.\n",
        "\n",
        "[9] X. Yuan, P. He, Q. Zhu, and X. Li, “Adversarial examples: Attacks and defenses for deep learning,” *IEEE Trans. Neural Netw. Learn. Syst.*, vol. 30, no. 9, pp. 2805–2824, 2019.\n",
        "\n",
        "[10] J. Zhao, D. Dua, and S. Singh, “Data poisoning attacks on transfer learning,” in *Proc. AAAI*, vol. 34, no. 4, pp. 5981–5988, 2020."
      ]
    }
  ],
  "metadata": {
    "colab": {
      "provenance": []
    },
    "kernelspec": {
      "display_name": "Python 3",
      "name": "python3"
    },
    "language_info": {
      "name": "python"
    }
  },
  "nbformat": 4,
  "nbformat_minor": 0
}
